{
 "cells": [
  {
   "cell_type": "code",
   "execution_count": 75,
   "metadata": {},
   "outputs": [],
   "source": [
    "import pandas as pd\n",
    "\n",
    "data = pd.read_csv('final data.csv')\n",
    "data = data.fillna('')\n",
    "final = pd.DataFrame()\n",
    "final['School'] = data['team_name']\n",
    "final['']"
   ]
  },
  {
   "cell_type": "code",
   "execution_count": 76,
   "metadata": {},
   "outputs": [],
   "source": [
    "orig = [i.split(', ') for i in data['Goal Original'].values]\n",
    "summ = [i.split(', ') for i in data['Goal Summarized'].values]\n",
    "merged = []\n",
    "for i in range(len(orig)):\n",
    "    temp = list(set(orig[i]).union(set(summ[i])))\n",
    "    if('' in temp):\n",
    "        temp.remove('')\n",
    "    merged.append(temp)"
   ]
  },
  {
   "cell_type": "code",
   "execution_count": 77,
   "metadata": {},
   "outputs": [],
   "source": [
    "cleaned = []\n",
    "for i in merged:\n",
    "    cleaned.append(str(i).replace('[', '').replace(']', '').replace('\\'',''))\n",
    "data['Goal'] = cleaned\n",
    "#data.drop(columns=\"Goal Original\").drop(columns=\"Goal Summarized\")\n",
    "data.to_csv(\"final data merged.csv\", sep = ',')"
   ]
  },
  {
   "cell_type": "code",
   "execution_count": 78,
   "metadata": {},
   "outputs": [],
   "source": [
    "orig = [i.split(', ') for i in data['Audience Original'].values]\n",
    "summ = [i.split(', ') for i in data['Audience Summarized'].values]\n",
    "merged = []\n",
    "for i in range(len(orig)):\n",
    "    temp = list(set(orig[i]).union(set(summ[i])))\n",
    "    if('' in temp):\n",
    "        temp.remove('')\n",
    "    merged.append(temp)"
   ]
  },
  {
   "cell_type": "code",
   "execution_count": 79,
   "metadata": {},
   "outputs": [],
   "source": [
    "cleaned = []\n",
    "for i in merged:\n",
    "    cleaned.append(str(i).replace('[', '').replace(']', '').replace('\\'',''))\n",
    "data['Audience'] = cleaned\n",
    "#data.drop(columns=\"Goal Original\").drop(columns=\"Goal Summarized\")\n",
    "data.to_csv(\"final data merged.csv\", sep = ',')"
   ]
  },
  {
   "cell_type": "code",
   "execution_count": 80,
   "metadata": {},
   "outputs": [],
   "source": [
    "orig = [i.split(', ') for i in data['Project Tag Original'].values]\n",
    "summ = [i.split(', ') for i in data['Project Tag Summarized'].values]\n",
    "merged = []\n",
    "for i in range(len(orig)):\n",
    "    temp = list(set(orig[i]).union(set(summ[i])))\n",
    "    if('' in temp):\n",
    "        temp.remove('')\n",
    "    merged.append(temp)"
   ]
  },
  {
   "cell_type": "code",
   "execution_count": 81,
   "metadata": {},
   "outputs": [],
   "source": [
    "cleaned = []\n",
    "for i in merged:\n",
    "    cleaned.append(str(i).replace('[', '').replace(']', '').replace('\\'',''))\n",
    "data['Project Tag'] = cleaned\n",
    "#data.drop(columns=\"Goal Original\").drop(columns=\"Goal Summarized\")\n",
    "data.to_csv(\"final data merged.csv\", sep = ',')"
   ]
  },
  {
   "cell_type": "code",
   "execution_count": null,
   "metadata": {},
   "outputs": [],
   "source": []
  }
 ],
 "metadata": {
  "kernelspec": {
   "display_name": "Python 3",
   "language": "python",
   "name": "python3"
  },
  "language_info": {
   "codemirror_mode": {
    "name": "ipython",
    "version": 3
   },
   "file_extension": ".py",
   "mimetype": "text/x-python",
   "name": "python",
   "nbconvert_exporter": "python",
   "pygments_lexer": "ipython3",
   "version": "3.7.3"
  }
 },
 "nbformat": 4,
 "nbformat_minor": 2
}
